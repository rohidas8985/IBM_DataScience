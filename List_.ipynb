{
  "cells": [
    {
      "cell_type": "markdown",
      "id": "ddb9f1be",
      "metadata": {
        "id": "ddb9f1be"
      },
      "source": [
        "# List"
      ]
    },
    {
      "cell_type": "raw",
      "id": "04b3e21a",
      "metadata": {
        "id": "04b3e21a"
      },
      "source": [
        "1. It is collection of items\n",
        "2. Ordered\n",
        "3. Mutable (Changable)\n",
        "4. Enclosed by square bracket >> []\n",
        "5. Used to store sequence of various data types (int, float,\n",
        "                                            str,list,tuple,dict,dataframe,boolean)\n",
        "6. Most useful data type in python\n",
        "7. Lists are comma seperated\n",
        "8. Duplicates are allowed"
      ]
    },
    {
      "cell_type": "code",
      "execution_count": null,
      "id": "2a231669",
      "metadata": {
        "id": "2a231669",
        "outputId": "807965ba-6fdd-4462-f2b7-7b37934f3c9c"
      },
      "outputs": [
        {
          "data": {
            "text/plain": [
              "list"
            ]
          },
          "execution_count": 1,
          "metadata": {},
          "output_type": "execute_result"
        }
      ],
      "source": [
        "list1 = [2,3,5,6]\n",
        "type(list1)"
      ]
    },
    {
      "cell_type": "code",
      "execution_count": null,
      "id": "08cec213",
      "metadata": {
        "id": "08cec213",
        "outputId": "00a00e3c-f1bf-4879-9e30-186f5efae505"
      },
      "outputs": [
        {
          "name": "stdout",
          "output_type": "stream",
          "text": [
            "[2, 3, 4, 5, 10.5, 20.25, 'python', 'Machine Learning'] <class 'list'>\n"
          ]
        }
      ],
      "source": [
        "data = [2,3,4,5,10.5,20.25,'python','Machine Learning']\n",
        "print(data,type(data))"
      ]
    },
    {
      "cell_type": "code",
      "execution_count": null,
      "id": "8bf93828",
      "metadata": {
        "id": "8bf93828",
        "outputId": "0fc64cec-5cd9-4c59-a037-e55971da739f"
      },
      "outputs": [
        {
          "data": {
            "text/plain": [
              "True"
            ]
          },
          "execution_count": 3,
          "metadata": {},
          "output_type": "execute_result"
        }
      ],
      "source": [
        "a = [2,3,4,5]\n",
        "b = [2,3,4,5]\n",
        "\n",
        "a == b"
      ]
    },
    {
      "cell_type": "code",
      "execution_count": null,
      "id": "dd8355a0",
      "metadata": {
        "id": "dd8355a0",
        "outputId": "b602fb21-1af3-481c-8f09-bfea01d14f1f"
      },
      "outputs": [
        {
          "data": {
            "text/plain": [
              "False"
            ]
          },
          "execution_count": 4,
          "metadata": {},
          "output_type": "execute_result"
        }
      ],
      "source": [
        "a = [1,2,3,4]\n",
        "b = [1,4,5,6]\n",
        "\n",
        "a == b"
      ]
    },
    {
      "cell_type": "markdown",
      "id": "25971916",
      "metadata": {
        "id": "25971916"
      },
      "source": [
        "# Indexing"
      ]
    },
    {
      "cell_type": "code",
      "execution_count": null,
      "id": "11b68fd2",
      "metadata": {
        "id": "11b68fd2"
      },
      "outputs": [],
      "source": [
        "# Indexing will start from 0 to len-1"
      ]
    },
    {
      "cell_type": "code",
      "execution_count": null,
      "id": "94c41336",
      "metadata": {
        "id": "94c41336",
        "outputId": "f4ea8c44-171e-459b-9c8d-7ab6356b6a1a"
      },
      "outputs": [
        {
          "data": {
            "text/plain": [
              "7"
            ]
          },
          "execution_count": 9,
          "metadata": {},
          "output_type": "execute_result"
        }
      ],
      "source": [
        "list1 = [2,3,4,5,6,7,6,10.5,'python','data science']\n",
        "list1[0]\n",
        "list1[1]\n",
        "list1[-1]\n",
        "list1[-5]"
      ]
    },
    {
      "cell_type": "code",
      "execution_count": null,
      "id": "e19aadf1",
      "metadata": {
        "id": "e19aadf1",
        "outputId": "3426ac56-06a9-423e-d009-a499b196d13c"
      },
      "outputs": [
        {
          "data": {
            "text/plain": [
              "[2, 3, 4]"
            ]
          },
          "execution_count": 10,
          "metadata": {},
          "output_type": "execute_result"
        }
      ],
      "source": [
        "list1[0:3]"
      ]
    },
    {
      "cell_type": "code",
      "execution_count": null,
      "id": "d509cb24",
      "metadata": {
        "id": "d509cb24",
        "outputId": "85515a1a-ae0e-4f56-bd33-f5cf4d5db1d9"
      },
      "outputs": [
        {
          "data": {
            "text/plain": [
              "[2, 3, 4]"
            ]
          },
          "execution_count": 11,
          "metadata": {},
          "output_type": "execute_result"
        }
      ],
      "source": [
        "list1[:3]"
      ]
    },
    {
      "cell_type": "code",
      "execution_count": null,
      "id": "b9f6ba76",
      "metadata": {
        "id": "b9f6ba76",
        "outputId": "1e4aff9d-e5ca-4b7d-c05a-1bd8d46218bf"
      },
      "outputs": [
        {
          "data": {
            "text/plain": [
              "[2, 3, 4, 5, 6, 7, 6, 10.5, 'python', 'data science']"
            ]
          },
          "execution_count": 12,
          "metadata": {},
          "output_type": "execute_result"
        }
      ],
      "source": [
        "list1[:]"
      ]
    },
    {
      "cell_type": "code",
      "execution_count": null,
      "id": "c654ad27",
      "metadata": {
        "id": "c654ad27",
        "outputId": "67dfe54b-d178-456b-f26a-4291c6a13f8a"
      },
      "outputs": [
        {
          "data": {
            "text/plain": [
              "[3, 4, 5, 6]"
            ]
          },
          "execution_count": 13,
          "metadata": {},
          "output_type": "execute_result"
        }
      ],
      "source": [
        "list1[1:5:1]   "
      ]
    },
    {
      "cell_type": "code",
      "execution_count": null,
      "id": "12a49190",
      "metadata": {
        "id": "12a49190",
        "outputId": "af44e45a-1be8-4367-90d5-481cd36a3b26"
      },
      "outputs": [
        {
          "data": {
            "text/plain": [
              "[3, 4, 5, 6]"
            ]
          },
          "execution_count": 14,
          "metadata": {},
          "output_type": "execute_result"
        }
      ],
      "source": [
        "list1 = [2,3,4,5,6,7,6,10.5,'python','data science']\n",
        "list1[1:5:1]"
      ]
    },
    {
      "cell_type": "code",
      "execution_count": null,
      "id": "fcfbb517",
      "metadata": {
        "id": "fcfbb517",
        "outputId": "d3245a9d-25a8-4f0e-f062-30d890b8dc9b"
      },
      "outputs": [
        {
          "data": {
            "text/plain": [
              "[3, 5]"
            ]
          },
          "execution_count": 15,
          "metadata": {},
          "output_type": "execute_result"
        }
      ],
      "source": [
        "list1[1:5:2]"
      ]
    },
    {
      "cell_type": "code",
      "execution_count": null,
      "id": "b70cffd3",
      "metadata": {
        "id": "b70cffd3",
        "outputId": "084d78f9-e480-4883-9b98-e5c0a7026ff0"
      },
      "outputs": [
        {
          "data": {
            "text/plain": [
              "[2, 4, 6, 6, 'python']"
            ]
          },
          "execution_count": 16,
          "metadata": {},
          "output_type": "execute_result"
        }
      ],
      "source": [
        "list1[::2]"
      ]
    },
    {
      "cell_type": "code",
      "execution_count": null,
      "id": "f265534d",
      "metadata": {
        "id": "f265534d"
      },
      "outputs": [],
      "source": [
        ""
      ]
    }
  ],
  "metadata": {
    "kernelspec": {
      "display_name": "Python 3",
      "language": "python",
      "name": "python3"
    },
    "language_info": {
      "codemirror_mode": {
        "name": "ipython",
        "version": 3
      },
      "file_extension": ".py",
      "mimetype": "text/x-python",
      "name": "python",
      "nbconvert_exporter": "python",
      "pygments_lexer": "ipython3",
      "version": "3.8.8"
    },
    "colab": {
      "name": "List .ipynb",
      "provenance": []
    }
  },
  "nbformat": 4,
  "nbformat_minor": 5
}